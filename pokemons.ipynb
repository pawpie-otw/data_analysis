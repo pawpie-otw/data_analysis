{
  "nbformat": 4,
  "nbformat_minor": 0,
  "metadata": {
    "colab": {
      "name": "pokemons.ipynb",
      "provenance": []
    },
    "kernelspec": {
      "name": "python3",
      "display_name": "Python 3"
    },
    "language_info": {
      "name": "python"
    }
  },
  "cells": [
    {
      "cell_type": "code",
      "metadata": {
        "id": "LnaoQkUnsVpf"
      },
      "source": [
        "import pandas as pd\n",
        "import numpy as np\n",
        "import matplotlib.pyplot as plt\n",
        "import seaborn as sns"
      ],
      "execution_count": null,
      "outputs": []
    },
    {
      "cell_type": "code",
      "metadata": {
        "colab": {
          "base_uri": "https://localhost:8080/",
          "height": 419
        },
        "id": "Jao6mm4iskGj",
        "outputId": "b85ba9d7-4603-4a37-e8aa-ff278f4dbe34"
      },
      "source": [
        "pokemons_df = pd.read_csv('https://gist.githubusercontent.com/armgilles/194bcff35001e7eb53a2a8b441e8b2c6/raw/92200bc0a673d5ce2110aaad4544ed6c4010f687/pokemon.csv')\n",
        "del pokemons_df['#']\n",
        "pokemons_df"
      ],
      "execution_count": null,
      "outputs": [
        {
          "output_type": "execute_result",
          "data": {
            "text/html": [
              "<div>\n",
              "<style scoped>\n",
              "    .dataframe tbody tr th:only-of-type {\n",
              "        vertical-align: middle;\n",
              "    }\n",
              "\n",
              "    .dataframe tbody tr th {\n",
              "        vertical-align: top;\n",
              "    }\n",
              "\n",
              "    .dataframe thead th {\n",
              "        text-align: right;\n",
              "    }\n",
              "</style>\n",
              "<table border=\"1\" class=\"dataframe\">\n",
              "  <thead>\n",
              "    <tr style=\"text-align: right;\">\n",
              "      <th></th>\n",
              "      <th>Name</th>\n",
              "      <th>Type 1</th>\n",
              "      <th>Type 2</th>\n",
              "      <th>Total</th>\n",
              "      <th>HP</th>\n",
              "      <th>Attack</th>\n",
              "      <th>Defense</th>\n",
              "      <th>Sp. Atk</th>\n",
              "      <th>Sp. Def</th>\n",
              "      <th>Speed</th>\n",
              "      <th>Generation</th>\n",
              "      <th>Legendary</th>\n",
              "    </tr>\n",
              "  </thead>\n",
              "  <tbody>\n",
              "    <tr>\n",
              "      <th>0</th>\n",
              "      <td>Bulbasaur</td>\n",
              "      <td>Grass</td>\n",
              "      <td>Poison</td>\n",
              "      <td>318</td>\n",
              "      <td>45</td>\n",
              "      <td>49</td>\n",
              "      <td>49</td>\n",
              "      <td>65</td>\n",
              "      <td>65</td>\n",
              "      <td>45</td>\n",
              "      <td>1</td>\n",
              "      <td>False</td>\n",
              "    </tr>\n",
              "    <tr>\n",
              "      <th>1</th>\n",
              "      <td>Ivysaur</td>\n",
              "      <td>Grass</td>\n",
              "      <td>Poison</td>\n",
              "      <td>405</td>\n",
              "      <td>60</td>\n",
              "      <td>62</td>\n",
              "      <td>63</td>\n",
              "      <td>80</td>\n",
              "      <td>80</td>\n",
              "      <td>60</td>\n",
              "      <td>1</td>\n",
              "      <td>False</td>\n",
              "    </tr>\n",
              "    <tr>\n",
              "      <th>2</th>\n",
              "      <td>Venusaur</td>\n",
              "      <td>Grass</td>\n",
              "      <td>Poison</td>\n",
              "      <td>525</td>\n",
              "      <td>80</td>\n",
              "      <td>82</td>\n",
              "      <td>83</td>\n",
              "      <td>100</td>\n",
              "      <td>100</td>\n",
              "      <td>80</td>\n",
              "      <td>1</td>\n",
              "      <td>False</td>\n",
              "    </tr>\n",
              "    <tr>\n",
              "      <th>3</th>\n",
              "      <td>VenusaurMega Venusaur</td>\n",
              "      <td>Grass</td>\n",
              "      <td>Poison</td>\n",
              "      <td>625</td>\n",
              "      <td>80</td>\n",
              "      <td>100</td>\n",
              "      <td>123</td>\n",
              "      <td>122</td>\n",
              "      <td>120</td>\n",
              "      <td>80</td>\n",
              "      <td>1</td>\n",
              "      <td>False</td>\n",
              "    </tr>\n",
              "    <tr>\n",
              "      <th>4</th>\n",
              "      <td>Charmander</td>\n",
              "      <td>Fire</td>\n",
              "      <td>NaN</td>\n",
              "      <td>309</td>\n",
              "      <td>39</td>\n",
              "      <td>52</td>\n",
              "      <td>43</td>\n",
              "      <td>60</td>\n",
              "      <td>50</td>\n",
              "      <td>65</td>\n",
              "      <td>1</td>\n",
              "      <td>False</td>\n",
              "    </tr>\n",
              "    <tr>\n",
              "      <th>...</th>\n",
              "      <td>...</td>\n",
              "      <td>...</td>\n",
              "      <td>...</td>\n",
              "      <td>...</td>\n",
              "      <td>...</td>\n",
              "      <td>...</td>\n",
              "      <td>...</td>\n",
              "      <td>...</td>\n",
              "      <td>...</td>\n",
              "      <td>...</td>\n",
              "      <td>...</td>\n",
              "      <td>...</td>\n",
              "    </tr>\n",
              "    <tr>\n",
              "      <th>795</th>\n",
              "      <td>Diancie</td>\n",
              "      <td>Rock</td>\n",
              "      <td>Fairy</td>\n",
              "      <td>600</td>\n",
              "      <td>50</td>\n",
              "      <td>100</td>\n",
              "      <td>150</td>\n",
              "      <td>100</td>\n",
              "      <td>150</td>\n",
              "      <td>50</td>\n",
              "      <td>6</td>\n",
              "      <td>True</td>\n",
              "    </tr>\n",
              "    <tr>\n",
              "      <th>796</th>\n",
              "      <td>DiancieMega Diancie</td>\n",
              "      <td>Rock</td>\n",
              "      <td>Fairy</td>\n",
              "      <td>700</td>\n",
              "      <td>50</td>\n",
              "      <td>160</td>\n",
              "      <td>110</td>\n",
              "      <td>160</td>\n",
              "      <td>110</td>\n",
              "      <td>110</td>\n",
              "      <td>6</td>\n",
              "      <td>True</td>\n",
              "    </tr>\n",
              "    <tr>\n",
              "      <th>797</th>\n",
              "      <td>HoopaHoopa Confined</td>\n",
              "      <td>Psychic</td>\n",
              "      <td>Ghost</td>\n",
              "      <td>600</td>\n",
              "      <td>80</td>\n",
              "      <td>110</td>\n",
              "      <td>60</td>\n",
              "      <td>150</td>\n",
              "      <td>130</td>\n",
              "      <td>70</td>\n",
              "      <td>6</td>\n",
              "      <td>True</td>\n",
              "    </tr>\n",
              "    <tr>\n",
              "      <th>798</th>\n",
              "      <td>HoopaHoopa Unbound</td>\n",
              "      <td>Psychic</td>\n",
              "      <td>Dark</td>\n",
              "      <td>680</td>\n",
              "      <td>80</td>\n",
              "      <td>160</td>\n",
              "      <td>60</td>\n",
              "      <td>170</td>\n",
              "      <td>130</td>\n",
              "      <td>80</td>\n",
              "      <td>6</td>\n",
              "      <td>True</td>\n",
              "    </tr>\n",
              "    <tr>\n",
              "      <th>799</th>\n",
              "      <td>Volcanion</td>\n",
              "      <td>Fire</td>\n",
              "      <td>Water</td>\n",
              "      <td>600</td>\n",
              "      <td>80</td>\n",
              "      <td>110</td>\n",
              "      <td>120</td>\n",
              "      <td>130</td>\n",
              "      <td>90</td>\n",
              "      <td>70</td>\n",
              "      <td>6</td>\n",
              "      <td>True</td>\n",
              "    </tr>\n",
              "  </tbody>\n",
              "</table>\n",
              "<p>800 rows × 12 columns</p>\n",
              "</div>"
            ],
            "text/plain": [
              "                      Name   Type 1  Type 2  ...  Speed  Generation  Legendary\n",
              "0                Bulbasaur    Grass  Poison  ...     45           1      False\n",
              "1                  Ivysaur    Grass  Poison  ...     60           1      False\n",
              "2                 Venusaur    Grass  Poison  ...     80           1      False\n",
              "3    VenusaurMega Venusaur    Grass  Poison  ...     80           1      False\n",
              "4               Charmander     Fire     NaN  ...     65           1      False\n",
              "..                     ...      ...     ...  ...    ...         ...        ...\n",
              "795                Diancie     Rock   Fairy  ...     50           6       True\n",
              "796    DiancieMega Diancie     Rock   Fairy  ...    110           6       True\n",
              "797    HoopaHoopa Confined  Psychic   Ghost  ...     70           6       True\n",
              "798     HoopaHoopa Unbound  Psychic    Dark  ...     80           6       True\n",
              "799              Volcanion     Fire   Water  ...     70           6       True\n",
              "\n",
              "[800 rows x 12 columns]"
            ]
          },
          "metadata": {
            "tags": []
          },
          "execution_count": 3
        }
      ]
    },
    {
      "cell_type": "code",
      "metadata": {
        "colab": {
          "base_uri": "https://localhost:8080/",
          "height": 518
        },
        "id": "02QjThkvs5W_",
        "outputId": "2479b08a-5d63-499c-821d-2794ed4dd8c4"
      },
      "source": [
        "print(pokemons_df.isna().sum())\n",
        "pokemons_df.describe()"
      ],
      "execution_count": null,
      "outputs": [
        {
          "output_type": "stream",
          "text": [
            "Name            0\n",
            "Type 1          0\n",
            "Type 2        386\n",
            "Total           0\n",
            "HP              0\n",
            "Attack          0\n",
            "Defense         0\n",
            "Sp. Atk         0\n",
            "Sp. Def         0\n",
            "Speed           0\n",
            "Generation      0\n",
            "Legendary       0\n",
            "dtype: int64\n"
          ],
          "name": "stdout"
        },
        {
          "output_type": "execute_result",
          "data": {
            "text/html": [
              "<div>\n",
              "<style scoped>\n",
              "    .dataframe tbody tr th:only-of-type {\n",
              "        vertical-align: middle;\n",
              "    }\n",
              "\n",
              "    .dataframe tbody tr th {\n",
              "        vertical-align: top;\n",
              "    }\n",
              "\n",
              "    .dataframe thead th {\n",
              "        text-align: right;\n",
              "    }\n",
              "</style>\n",
              "<table border=\"1\" class=\"dataframe\">\n",
              "  <thead>\n",
              "    <tr style=\"text-align: right;\">\n",
              "      <th></th>\n",
              "      <th>Total</th>\n",
              "      <th>HP</th>\n",
              "      <th>Attack</th>\n",
              "      <th>Defense</th>\n",
              "      <th>Sp. Atk</th>\n",
              "      <th>Sp. Def</th>\n",
              "      <th>Speed</th>\n",
              "      <th>Generation</th>\n",
              "    </tr>\n",
              "  </thead>\n",
              "  <tbody>\n",
              "    <tr>\n",
              "      <th>count</th>\n",
              "      <td>800.00000</td>\n",
              "      <td>800.000000</td>\n",
              "      <td>800.000000</td>\n",
              "      <td>800.000000</td>\n",
              "      <td>800.000000</td>\n",
              "      <td>800.000000</td>\n",
              "      <td>800.000000</td>\n",
              "      <td>800.00000</td>\n",
              "    </tr>\n",
              "    <tr>\n",
              "      <th>mean</th>\n",
              "      <td>435.10250</td>\n",
              "      <td>69.258750</td>\n",
              "      <td>79.001250</td>\n",
              "      <td>73.842500</td>\n",
              "      <td>72.820000</td>\n",
              "      <td>71.902500</td>\n",
              "      <td>68.277500</td>\n",
              "      <td>3.32375</td>\n",
              "    </tr>\n",
              "    <tr>\n",
              "      <th>std</th>\n",
              "      <td>119.96304</td>\n",
              "      <td>25.534669</td>\n",
              "      <td>32.457366</td>\n",
              "      <td>31.183501</td>\n",
              "      <td>32.722294</td>\n",
              "      <td>27.828916</td>\n",
              "      <td>29.060474</td>\n",
              "      <td>1.66129</td>\n",
              "    </tr>\n",
              "    <tr>\n",
              "      <th>min</th>\n",
              "      <td>180.00000</td>\n",
              "      <td>1.000000</td>\n",
              "      <td>5.000000</td>\n",
              "      <td>5.000000</td>\n",
              "      <td>10.000000</td>\n",
              "      <td>20.000000</td>\n",
              "      <td>5.000000</td>\n",
              "      <td>1.00000</td>\n",
              "    </tr>\n",
              "    <tr>\n",
              "      <th>25%</th>\n",
              "      <td>330.00000</td>\n",
              "      <td>50.000000</td>\n",
              "      <td>55.000000</td>\n",
              "      <td>50.000000</td>\n",
              "      <td>49.750000</td>\n",
              "      <td>50.000000</td>\n",
              "      <td>45.000000</td>\n",
              "      <td>2.00000</td>\n",
              "    </tr>\n",
              "    <tr>\n",
              "      <th>50%</th>\n",
              "      <td>450.00000</td>\n",
              "      <td>65.000000</td>\n",
              "      <td>75.000000</td>\n",
              "      <td>70.000000</td>\n",
              "      <td>65.000000</td>\n",
              "      <td>70.000000</td>\n",
              "      <td>65.000000</td>\n",
              "      <td>3.00000</td>\n",
              "    </tr>\n",
              "    <tr>\n",
              "      <th>75%</th>\n",
              "      <td>515.00000</td>\n",
              "      <td>80.000000</td>\n",
              "      <td>100.000000</td>\n",
              "      <td>90.000000</td>\n",
              "      <td>95.000000</td>\n",
              "      <td>90.000000</td>\n",
              "      <td>90.000000</td>\n",
              "      <td>5.00000</td>\n",
              "    </tr>\n",
              "    <tr>\n",
              "      <th>max</th>\n",
              "      <td>780.00000</td>\n",
              "      <td>255.000000</td>\n",
              "      <td>190.000000</td>\n",
              "      <td>230.000000</td>\n",
              "      <td>194.000000</td>\n",
              "      <td>230.000000</td>\n",
              "      <td>180.000000</td>\n",
              "      <td>6.00000</td>\n",
              "    </tr>\n",
              "  </tbody>\n",
              "</table>\n",
              "</div>"
            ],
            "text/plain": [
              "           Total          HP      Attack  ...     Sp. Def       Speed  Generation\n",
              "count  800.00000  800.000000  800.000000  ...  800.000000  800.000000   800.00000\n",
              "mean   435.10250   69.258750   79.001250  ...   71.902500   68.277500     3.32375\n",
              "std    119.96304   25.534669   32.457366  ...   27.828916   29.060474     1.66129\n",
              "min    180.00000    1.000000    5.000000  ...   20.000000    5.000000     1.00000\n",
              "25%    330.00000   50.000000   55.000000  ...   50.000000   45.000000     2.00000\n",
              "50%    450.00000   65.000000   75.000000  ...   70.000000   65.000000     3.00000\n",
              "75%    515.00000   80.000000  100.000000  ...   90.000000   90.000000     5.00000\n",
              "max    780.00000  255.000000  190.000000  ...  230.000000  180.000000     6.00000\n",
              "\n",
              "[8 rows x 8 columns]"
            ]
          },
          "metadata": {
            "tags": []
          },
          "execution_count": 4
        }
      ]
    },
    {
      "cell_type": "code",
      "metadata": {
        "colab": {
          "base_uri": "https://localhost:8080/"
        },
        "id": "i0EVq84AtLRQ",
        "outputId": "7ee0abe8-844c-419d-950e-decc4b6d3642"
      },
      "source": [
        "print('liczba legendarnych pokemonów w zbiorze:', pokemons_df[pokemons_df['Legendary']].Legendary.count())\n",
        "print('podzial na legendarne i nie~ pokemony w pierwszych 100 z najwyzsza suma statystyk:')\n",
        "true, false = pokemons_df.sort_values('Total', ascending=False).iloc[:100].Legendary.value_counts()\n",
        "print(f'Legendarne: {true}\\nnie legendarne: {false}')"
      ],
      "execution_count": null,
      "outputs": [
        {
          "output_type": "stream",
          "text": [
            "liczba legendarnych pokemonów w zbiorze: 65\n",
            "podzial na legendarne i nie~ pokemony w pierwszych 100 z najwyzsza suma statystyk:\n",
            "Legendarne: 53\n",
            "nie legendarne: 47\n"
          ],
          "name": "stdout"
        }
      ]
    },
    {
      "cell_type": "code",
      "metadata": {
        "colab": {
          "base_uri": "https://localhost:8080/",
          "height": 548
        },
        "id": "vNiw6w2Ltksd",
        "outputId": "ef88522c-4c4b-4f9e-aa96-a3e9e6b98ec0"
      },
      "source": [
        "pokemons_df.sort_values('Total', ascending=False)[pokemons_df.Total>=700]"
      ],
      "execution_count": null,
      "outputs": [
        {
          "output_type": "stream",
          "text": [
            "/usr/local/lib/python3.7/dist-packages/ipykernel_launcher.py:1: UserWarning: Boolean Series key will be reindexed to match DataFrame index.\n",
            "  \"\"\"Entry point for launching an IPython kernel.\n"
          ],
          "name": "stderr"
        },
        {
          "output_type": "execute_result",
          "data": {
            "text/html": [
              "<div>\n",
              "<style scoped>\n",
              "    .dataframe tbody tr th:only-of-type {\n",
              "        vertical-align: middle;\n",
              "    }\n",
              "\n",
              "    .dataframe tbody tr th {\n",
              "        vertical-align: top;\n",
              "    }\n",
              "\n",
              "    .dataframe thead th {\n",
              "        text-align: right;\n",
              "    }\n",
              "</style>\n",
              "<table border=\"1\" class=\"dataframe\">\n",
              "  <thead>\n",
              "    <tr style=\"text-align: right;\">\n",
              "      <th></th>\n",
              "      <th>Name</th>\n",
              "      <th>Type 1</th>\n",
              "      <th>Type 2</th>\n",
              "      <th>Total</th>\n",
              "      <th>HP</th>\n",
              "      <th>Attack</th>\n",
              "      <th>Defense</th>\n",
              "      <th>Sp. Atk</th>\n",
              "      <th>Sp. Def</th>\n",
              "      <th>Speed</th>\n",
              "      <th>Generation</th>\n",
              "      <th>Legendary</th>\n",
              "    </tr>\n",
              "  </thead>\n",
              "  <tbody>\n",
              "    <tr>\n",
              "      <th>426</th>\n",
              "      <td>RayquazaMega Rayquaza</td>\n",
              "      <td>Dragon</td>\n",
              "      <td>Flying</td>\n",
              "      <td>780</td>\n",
              "      <td>105</td>\n",
              "      <td>180</td>\n",
              "      <td>100</td>\n",
              "      <td>180</td>\n",
              "      <td>100</td>\n",
              "      <td>115</td>\n",
              "      <td>3</td>\n",
              "      <td>True</td>\n",
              "    </tr>\n",
              "    <tr>\n",
              "      <th>164</th>\n",
              "      <td>MewtwoMega Mewtwo Y</td>\n",
              "      <td>Psychic</td>\n",
              "      <td>NaN</td>\n",
              "      <td>780</td>\n",
              "      <td>106</td>\n",
              "      <td>150</td>\n",
              "      <td>70</td>\n",
              "      <td>194</td>\n",
              "      <td>120</td>\n",
              "      <td>140</td>\n",
              "      <td>1</td>\n",
              "      <td>True</td>\n",
              "    </tr>\n",
              "    <tr>\n",
              "      <th>163</th>\n",
              "      <td>MewtwoMega Mewtwo X</td>\n",
              "      <td>Psychic</td>\n",
              "      <td>Fighting</td>\n",
              "      <td>780</td>\n",
              "      <td>106</td>\n",
              "      <td>190</td>\n",
              "      <td>100</td>\n",
              "      <td>154</td>\n",
              "      <td>100</td>\n",
              "      <td>130</td>\n",
              "      <td>1</td>\n",
              "      <td>True</td>\n",
              "    </tr>\n",
              "    <tr>\n",
              "      <th>422</th>\n",
              "      <td>KyogrePrimal Kyogre</td>\n",
              "      <td>Water</td>\n",
              "      <td>NaN</td>\n",
              "      <td>770</td>\n",
              "      <td>100</td>\n",
              "      <td>150</td>\n",
              "      <td>90</td>\n",
              "      <td>180</td>\n",
              "      <td>160</td>\n",
              "      <td>90</td>\n",
              "      <td>3</td>\n",
              "      <td>True</td>\n",
              "    </tr>\n",
              "    <tr>\n",
              "      <th>424</th>\n",
              "      <td>GroudonPrimal Groudon</td>\n",
              "      <td>Ground</td>\n",
              "      <td>Fire</td>\n",
              "      <td>770</td>\n",
              "      <td>100</td>\n",
              "      <td>180</td>\n",
              "      <td>160</td>\n",
              "      <td>150</td>\n",
              "      <td>90</td>\n",
              "      <td>90</td>\n",
              "      <td>3</td>\n",
              "      <td>True</td>\n",
              "    </tr>\n",
              "    <tr>\n",
              "      <th>552</th>\n",
              "      <td>Arceus</td>\n",
              "      <td>Normal</td>\n",
              "      <td>NaN</td>\n",
              "      <td>720</td>\n",
              "      <td>120</td>\n",
              "      <td>120</td>\n",
              "      <td>120</td>\n",
              "      <td>120</td>\n",
              "      <td>120</td>\n",
              "      <td>120</td>\n",
              "      <td>4</td>\n",
              "      <td>True</td>\n",
              "    </tr>\n",
              "    <tr>\n",
              "      <th>712</th>\n",
              "      <td>KyuremWhite Kyurem</td>\n",
              "      <td>Dragon</td>\n",
              "      <td>Ice</td>\n",
              "      <td>700</td>\n",
              "      <td>125</td>\n",
              "      <td>120</td>\n",
              "      <td>90</td>\n",
              "      <td>170</td>\n",
              "      <td>100</td>\n",
              "      <td>95</td>\n",
              "      <td>5</td>\n",
              "      <td>True</td>\n",
              "    </tr>\n",
              "    <tr>\n",
              "      <th>711</th>\n",
              "      <td>KyuremBlack Kyurem</td>\n",
              "      <td>Dragon</td>\n",
              "      <td>Ice</td>\n",
              "      <td>700</td>\n",
              "      <td>125</td>\n",
              "      <td>170</td>\n",
              "      <td>100</td>\n",
              "      <td>120</td>\n",
              "      <td>90</td>\n",
              "      <td>95</td>\n",
              "      <td>5</td>\n",
              "      <td>True</td>\n",
              "    </tr>\n",
              "    <tr>\n",
              "      <th>409</th>\n",
              "      <td>SalamenceMega Salamence</td>\n",
              "      <td>Dragon</td>\n",
              "      <td>Flying</td>\n",
              "      <td>700</td>\n",
              "      <td>95</td>\n",
              "      <td>145</td>\n",
              "      <td>130</td>\n",
              "      <td>120</td>\n",
              "      <td>90</td>\n",
              "      <td>120</td>\n",
              "      <td>3</td>\n",
              "      <td>False</td>\n",
              "    </tr>\n",
              "    <tr>\n",
              "      <th>413</th>\n",
              "      <td>MetagrossMega Metagross</td>\n",
              "      <td>Steel</td>\n",
              "      <td>Psychic</td>\n",
              "      <td>700</td>\n",
              "      <td>80</td>\n",
              "      <td>145</td>\n",
              "      <td>150</td>\n",
              "      <td>105</td>\n",
              "      <td>110</td>\n",
              "      <td>110</td>\n",
              "      <td>3</td>\n",
              "      <td>False</td>\n",
              "    </tr>\n",
              "    <tr>\n",
              "      <th>418</th>\n",
              "      <td>LatiasMega Latias</td>\n",
              "      <td>Dragon</td>\n",
              "      <td>Psychic</td>\n",
              "      <td>700</td>\n",
              "      <td>80</td>\n",
              "      <td>100</td>\n",
              "      <td>120</td>\n",
              "      <td>140</td>\n",
              "      <td>150</td>\n",
              "      <td>110</td>\n",
              "      <td>3</td>\n",
              "      <td>True</td>\n",
              "    </tr>\n",
              "    <tr>\n",
              "      <th>420</th>\n",
              "      <td>LatiosMega Latios</td>\n",
              "      <td>Dragon</td>\n",
              "      <td>Psychic</td>\n",
              "      <td>700</td>\n",
              "      <td>80</td>\n",
              "      <td>130</td>\n",
              "      <td>100</td>\n",
              "      <td>160</td>\n",
              "      <td>120</td>\n",
              "      <td>110</td>\n",
              "      <td>3</td>\n",
              "      <td>True</td>\n",
              "    </tr>\n",
              "    <tr>\n",
              "      <th>494</th>\n",
              "      <td>GarchompMega Garchomp</td>\n",
              "      <td>Dragon</td>\n",
              "      <td>Ground</td>\n",
              "      <td>700</td>\n",
              "      <td>108</td>\n",
              "      <td>170</td>\n",
              "      <td>115</td>\n",
              "      <td>120</td>\n",
              "      <td>95</td>\n",
              "      <td>92</td>\n",
              "      <td>4</td>\n",
              "      <td>False</td>\n",
              "    </tr>\n",
              "    <tr>\n",
              "      <th>268</th>\n",
              "      <td>TyranitarMega Tyranitar</td>\n",
              "      <td>Rock</td>\n",
              "      <td>Dark</td>\n",
              "      <td>700</td>\n",
              "      <td>100</td>\n",
              "      <td>164</td>\n",
              "      <td>150</td>\n",
              "      <td>95</td>\n",
              "      <td>120</td>\n",
              "      <td>71</td>\n",
              "      <td>2</td>\n",
              "      <td>False</td>\n",
              "    </tr>\n",
              "    <tr>\n",
              "      <th>796</th>\n",
              "      <td>DiancieMega Diancie</td>\n",
              "      <td>Rock</td>\n",
              "      <td>Fairy</td>\n",
              "      <td>700</td>\n",
              "      <td>50</td>\n",
              "      <td>160</td>\n",
              "      <td>110</td>\n",
              "      <td>160</td>\n",
              "      <td>110</td>\n",
              "      <td>110</td>\n",
              "      <td>6</td>\n",
              "      <td>True</td>\n",
              "    </tr>\n",
              "  </tbody>\n",
              "</table>\n",
              "</div>"
            ],
            "text/plain": [
              "                        Name   Type 1    Type 2  ...  Speed  Generation  Legendary\n",
              "426    RayquazaMega Rayquaza   Dragon    Flying  ...    115           3       True\n",
              "164      MewtwoMega Mewtwo Y  Psychic       NaN  ...    140           1       True\n",
              "163      MewtwoMega Mewtwo X  Psychic  Fighting  ...    130           1       True\n",
              "422      KyogrePrimal Kyogre    Water       NaN  ...     90           3       True\n",
              "424    GroudonPrimal Groudon   Ground      Fire  ...     90           3       True\n",
              "552                   Arceus   Normal       NaN  ...    120           4       True\n",
              "712       KyuremWhite Kyurem   Dragon       Ice  ...     95           5       True\n",
              "711       KyuremBlack Kyurem   Dragon       Ice  ...     95           5       True\n",
              "409  SalamenceMega Salamence   Dragon    Flying  ...    120           3      False\n",
              "413  MetagrossMega Metagross    Steel   Psychic  ...    110           3      False\n",
              "418        LatiasMega Latias   Dragon   Psychic  ...    110           3       True\n",
              "420        LatiosMega Latios   Dragon   Psychic  ...    110           3       True\n",
              "494    GarchompMega Garchomp   Dragon    Ground  ...     92           4      False\n",
              "268  TyranitarMega Tyranitar     Rock      Dark  ...     71           2      False\n",
              "796      DiancieMega Diancie     Rock     Fairy  ...    110           6       True\n",
              "\n",
              "[15 rows x 12 columns]"
            ]
          },
          "metadata": {
            "tags": []
          },
          "execution_count": 6
        }
      ]
    },
    {
      "cell_type": "code",
      "metadata": {
        "colab": {
          "base_uri": "https://localhost:8080/"
        },
        "id": "nXbd55sazzaE",
        "outputId": "52c911fe-5f17-4335-f612-42cee269b50d"
      },
      "source": [
        "pokemons_leg_df = pokemons_df[pokemons_df.Legendary]\n",
        "pokemons_no_df = pokemons_df[~pokemons_df.Legendary]\n",
        "print('Najslabszy legendarny:\\n')\n",
        "pokemons_leg_df.sort_values('Total').iloc[0]"
      ],
      "execution_count": null,
      "outputs": [
        {
          "output_type": "stream",
          "text": [
            "Najslabszy legendarny:\n",
            "\n"
          ],
          "name": "stdout"
        },
        {
          "output_type": "execute_result",
          "data": {
            "text/plain": [
              "Name          Articuno\n",
              "Type 1             Ice\n",
              "Type 2          Flying\n",
              "Total              580\n",
              "HP                  90\n",
              "Attack              85\n",
              "Defense            100\n",
              "Sp. Atk             95\n",
              "Sp. Def            125\n",
              "Speed               85\n",
              "Generation           1\n",
              "Legendary         True\n",
              "Name: 156, dtype: object"
            ]
          },
          "metadata": {
            "tags": []
          },
          "execution_count": 29
        }
      ]
    },
    {
      "cell_type": "markdown",
      "metadata": {
        "id": "HOIYML9kO7MD"
      },
      "source": [
        "## Ilość legendarnych pokemonów w każdej z generacji"
      ]
    },
    {
      "cell_type": "code",
      "metadata": {
        "colab": {
          "base_uri": "https://localhost:8080/",
          "height": 533
        },
        "id": "ga2i_iHaZRLH",
        "outputId": "ec5ef657-b0fd-4b42-e0ba-82e18cd87c06"
      },
      "source": [
        "legendary_per_gen = pokemons_leg_df.groupby('Generation').count().Legendary\n",
        "\n",
        "sns.set(rc={'figure.figsize':(11.7,8.27)})\n",
        "g = sns.barplot(x=legendary_per_gen.index, y=legendary_per_gen)\n",
        "g.axhline(legendary_per_gen.mean(), color='red')\n",
        "g.set(ylabel=\"Amount of legendarys\")\n",
        "plt.title(\"Legendary Pokemons per generation\")\n",
        "plt.text(0.4, legendary_per_gen.mean()+.5, 'mean value', fontsize=30, va='center', ha='center')\n",
        "for i, row in enumerate(legendary_per_gen):\n",
        "  g.text(i, row+.2, row)\n",
        "plt.show()"
      ],
      "execution_count": null,
      "outputs": [
        {
          "output_type": "display_data",
          "data": {
            "image/png": "[encoded data removed]",
            "text/plain": [
              "<Figure size 842.4x595.44 with 1 Axes>"
            ]
          },
          "metadata": {
            "tags": []
          }
        }
      ]
    },
    {
      "cell_type": "markdown",
      "metadata": {
        "id": "vGcEbtbs2jUI"
      },
      "source": [
        "## Porównanie średnich statystyk pokemonów legendarnych ze zwykłymi"
      ]
    },
    {
      "cell_type": "code",
      "metadata": {
        "colab": {
          "base_uri": "https://localhost:8080/",
          "height": 128
        },
        "id": "9TYrMJoWuC-4",
        "outputId": "ec699f5f-18cc-4860-8c90-c8ef96a7eb7a"
      },
      "source": [
        "mean_stats_leg = pokemons_leg_df.mean() \n",
        "mean_stats_no = pokemons_no_df.mean() \n",
        "mean_stats = pd.DataFrame([mean_stats_no, mean_stats_leg])\n",
        "mean_stats.replace({'Legendary':{True:'Legendary', False:'Normal'}}, inplace=True)\n",
        "del mean_stats['Generation']\n",
        "print(\"Tabela:\")\n",
        "mean_stats"
      ],
      "execution_count": null,
      "outputs": [
        {
          "output_type": "stream",
          "text": [
            "Tabela:\n"
          ],
          "name": "stdout"
        },
        {
          "output_type": "execute_result",
          "data": {
            "text/html": [
              "<div>\n",
              "<style scoped>\n",
              "    .dataframe tbody tr th:only-of-type {\n",
              "        vertical-align: middle;\n",
              "    }\n",
              "\n",
              "    .dataframe tbody tr th {\n",
              "        vertical-align: top;\n",
              "    }\n",
              "\n",
              "    .dataframe thead th {\n",
              "        text-align: right;\n",
              "    }\n",
              "</style>\n",
              "<table border=\"1\" class=\"dataframe\">\n",
              "  <thead>\n",
              "    <tr style=\"text-align: right;\">\n",
              "      <th></th>\n",
              "      <th>Total</th>\n",
              "      <th>HP</th>\n",
              "      <th>Attack</th>\n",
              "      <th>Defense</th>\n",
              "      <th>Sp. Atk</th>\n",
              "      <th>Sp. Def</th>\n",
              "      <th>Speed</th>\n",
              "      <th>Legendary</th>\n",
              "    </tr>\n",
              "  </thead>\n",
              "  <tbody>\n",
              "    <tr>\n",
              "      <th>0</th>\n",
              "      <td>417.213605</td>\n",
              "      <td>67.182313</td>\n",
              "      <td>75.669388</td>\n",
              "      <td>71.559184</td>\n",
              "      <td>68.454422</td>\n",
              "      <td>68.892517</td>\n",
              "      <td>65.455782</td>\n",
              "      <td>Normal</td>\n",
              "    </tr>\n",
              "    <tr>\n",
              "      <th>1</th>\n",
              "      <td>637.384615</td>\n",
              "      <td>92.738462</td>\n",
              "      <td>116.676923</td>\n",
              "      <td>99.661538</td>\n",
              "      <td>122.184615</td>\n",
              "      <td>105.938462</td>\n",
              "      <td>100.184615</td>\n",
              "      <td>Legendary</td>\n",
              "    </tr>\n",
              "  </tbody>\n",
              "</table>\n",
              "</div>"
            ],
            "text/plain": [
              "        Total         HP      Attack  ...     Sp. Def       Speed  Legendary\n",
              "0  417.213605  67.182313   75.669388  ...   68.892517   65.455782     Normal\n",
              "1  637.384615  92.738462  116.676923  ...  105.938462  100.184615  Legendary\n",
              "\n",
              "[2 rows x 8 columns]"
            ]
          },
          "metadata": {
            "tags": []
          },
          "execution_count": 10
        }
      ]
    },
    {
      "cell_type": "code",
      "metadata": {
        "colab": {
          "base_uri": "https://localhost:8080/",
          "height": 432
        },
        "id": "ktfNdxim-IQp",
        "outputId": "c1ff8628-bc56-4c67-dbcd-217d40a7e74d"
      },
      "source": [
        "mean_melt = pd.melt(mean_stats, id_vars='Legendary', var_name=\"stats\", value_name='mean stats')\n",
        "\n",
        "colors = [\"#0000FF\", \"#FFD700\"]\n",
        "customPalette = sns.set_palette(sns.color_palette(colors))\n",
        "g=sns.catplot(x='stats', y='mean stats',data=mean_melt, kind='bar', hue='Legendary', palette=customPalette)\n",
        "plt.title(\"Comparison mean stats of normal and legendary Pokemons\")\n",
        "print(\"Wykres puktowy:\\n\")\n",
        "plt.show()\n",
        "None"
      ],
      "execution_count": null,
      "outputs": [
        {
          "output_type": "stream",
          "text": [
            "Wykres puktowy:\n",
            "\n"
          ],
          "name": "stdout"
        },
        {
          "output_type": "display_data",
          "data": {
            "image/png": "[encoded data removed]",
            "text/plain": [
              "<Figure size 458.1x360 with 1 Axes>"
            ]
          },
          "metadata": {
            "tags": []
          }
        }
      ]
    },
    {
      "cell_type": "code",
      "metadata": {
        "colab": {
          "base_uri": "https://localhost:8080/"
        },
        "id": "qRfDgDC0DeFb",
        "outputId": "9d4c8e6a-7c0a-4870-ff9b-22681f2b952c"
      },
      "source": [
        "# średnia przewaga legendarnych wyrażona w % nad średnim normlanym\n",
        "print(\"Przewaga w % na korzyść średnich statytyk dla legendarnych pokemonów:\\n\")\n",
        "mean_stats.iloc[1,1:-1]/mean_stats.iloc[0,1:-1]*100-100"
      ],
      "execution_count": null,
      "outputs": [
        {
          "output_type": "stream",
          "text": [
            "Przewaga w % na korzyść średnich statytyk dla legendarnych pokemonów:\n",
            "\n"
          ],
          "name": "stdout"
        },
        {
          "output_type": "execute_result",
          "data": {
            "text/plain": [
              "HP           38.04\n",
              "Attack      54.193\n",
              "Defense    39.2715\n",
              "Sp. Atk    78.4905\n",
              "Sp. Def    53.7735\n",
              "Speed      53.0569\n",
              "dtype: object"
            ]
          },
          "metadata": {
            "tags": []
          },
          "execution_count": 28
        }
      ]
    },
    {
      "cell_type": "markdown",
      "metadata": {
        "id": "cx6MnhizODo1"
      },
      "source": [
        "## Suma występowań każdego z typów umiejętności/żywiołów"
      ]
    },
    {
      "cell_type": "code",
      "metadata": {
        "colab": {
          "base_uri": "https://localhost:8080/",
          "height": 537
        },
        "id": "-XDGTz4SNv0K",
        "outputId": "8af18e43-9aa7-44aa-bf5c-6c2924f9d5ce"
      },
      "source": [
        "elements = pokemons_df['Type 1'].value_counts()+pokemons_df['Type 2'].value_counts()\n",
        "plt.title('Abundance of elements/skills')\n",
        "plt.xticks(rotation=30)\n",
        "g=sns.barplot( x= elements.index, y=elements)\n",
        "for i, row in enumerate(elements):\n",
        "  g.text(i-.18, row+.2, row)"
      ],
      "execution_count": null,
      "outputs": [
        {
          "output_type": "display_data",
          "data": {
            "image/png": "[encoded data removed]",
            "text/plain": [
              "<Figure size 842.4x595.44 with 1 Axes>"
            ]
          },
          "metadata": {
            "tags": []
          }
        }
      ]
    },
    {
      "cell_type": "markdown",
      "metadata": {
        "id": "IWT7xuTyNgjG"
      },
      "source": [
        "## Wyświetlenie pokemonów z najwyższą wartością w każdej ze statystyk wraz z podkreśleniem konkretnej komórki"
      ]
    },
    {
      "cell_type": "code",
      "metadata": {
        "colab": {
          "base_uri": "https://localhost:8080/",
          "height": 166
        },
        "id": "DrRMbm-9sbUX",
        "outputId": "ea7fe1f1-88e5-468c-c700-aa1450fa26db"
      },
      "source": [
        "pokemons_df.iloc[pokemons_df.iloc[:,4:10].idxmax()].style.highlight_max(color='red', subset=['Total','HP','Attack',\t'Defense','Sp. Atk','Sp. Def',\t'Speed'])"
      ],
      "execution_count": null,
      "outputs": [
        {
          "output_type": "execute_result",
          "data": {
            "text/html": [
              "<style  type=\"text/css\" >\n",
              "#T_f661893e_db58_11eb_b345_0242ac1c0002row0_col4,#T_f661893e_db58_11eb_b345_0242ac1c0002row1_col3,#T_f661893e_db58_11eb_b345_0242ac1c0002row1_col5,#T_f661893e_db58_11eb_b345_0242ac1c0002row2_col6,#T_f661893e_db58_11eb_b345_0242ac1c0002row3_col3,#T_f661893e_db58_11eb_b345_0242ac1c0002row3_col7,#T_f661893e_db58_11eb_b345_0242ac1c0002row4_col6,#T_f661893e_db58_11eb_b345_0242ac1c0002row4_col8,#T_f661893e_db58_11eb_b345_0242ac1c0002row5_col9{\n",
              "            background-color:  red;\n",
              "        }</style><table id=\"T_f661893e_db58_11eb_b345_0242ac1c0002\" ><thead>    <tr>        <th class=\"blank level0\" ></th>        <th class=\"col_heading level0 col0\" >Name</th>        <th class=\"col_heading level0 col1\" >Type 1</th>        <th class=\"col_heading level0 col2\" >Type 2</th>        <th class=\"col_heading level0 col3\" >Total</th>        <th class=\"col_heading level0 col4\" >HP</th>        <th class=\"col_heading level0 col5\" >Attack</th>        <th class=\"col_heading level0 col6\" >Defense</th>        <th class=\"col_heading level0 col7\" >Sp. Atk</th>        <th class=\"col_heading level0 col8\" >Sp. Def</th>        <th class=\"col_heading level0 col9\" >Speed</th>        <th class=\"col_heading level0 col10\" >Generation</th>        <th class=\"col_heading level0 col11\" >Legendary</th>    </tr></thead><tbody>\n",
              "                <tr>\n",
              "                        <th id=\"T_f661893e_db58_11eb_b345_0242ac1c0002level0_row0\" class=\"row_heading level0 row0\" >261</th>\n",
              "                        <td id=\"T_f661893e_db58_11eb_b345_0242ac1c0002row0_col0\" class=\"data row0 col0\" >Blissey</td>\n",
              "                        <td id=\"T_f661893e_db58_11eb_b345_0242ac1c0002row0_col1\" class=\"data row0 col1\" >Normal</td>\n",
              "                        <td id=\"T_f661893e_db58_11eb_b345_0242ac1c0002row0_col2\" class=\"data row0 col2\" >nan</td>\n",
              "                        <td id=\"T_f661893e_db58_11eb_b345_0242ac1c0002row0_col3\" class=\"data row0 col3\" >540</td>\n",
              "                        <td id=\"T_f661893e_db58_11eb_b345_0242ac1c0002row0_col4\" class=\"data row0 col4\" >255</td>\n",
              "                        <td id=\"T_f661893e_db58_11eb_b345_0242ac1c0002row0_col5\" class=\"data row0 col5\" >10</td>\n",
              "                        <td id=\"T_f661893e_db58_11eb_b345_0242ac1c0002row0_col6\" class=\"data row0 col6\" >10</td>\n",
              "                        <td id=\"T_f661893e_db58_11eb_b345_0242ac1c0002row0_col7\" class=\"data row0 col7\" >75</td>\n",
              "                        <td id=\"T_f661893e_db58_11eb_b345_0242ac1c0002row0_col8\" class=\"data row0 col8\" >135</td>\n",
              "                        <td id=\"T_f661893e_db58_11eb_b345_0242ac1c0002row0_col9\" class=\"data row0 col9\" >55</td>\n",
              "                        <td id=\"T_f661893e_db58_11eb_b345_0242ac1c0002row0_col10\" class=\"data row0 col10\" >2</td>\n",
              "                        <td id=\"T_f661893e_db58_11eb_b345_0242ac1c0002row0_col11\" class=\"data row0 col11\" >False</td>\n",
              "            </tr>\n",
              "            <tr>\n",
              "                        <th id=\"T_f661893e_db58_11eb_b345_0242ac1c0002level0_row1\" class=\"row_heading level0 row1\" >163</th>\n",
              "                        <td id=\"T_f661893e_db58_11eb_b345_0242ac1c0002row1_col0\" class=\"data row1 col0\" >MewtwoMega Mewtwo X</td>\n",
              "                        <td id=\"T_f661893e_db58_11eb_b345_0242ac1c0002row1_col1\" class=\"data row1 col1\" >Psychic</td>\n",
              "                        <td id=\"T_f661893e_db58_11eb_b345_0242ac1c0002row1_col2\" class=\"data row1 col2\" >Fighting</td>\n",
              "                        <td id=\"T_f661893e_db58_11eb_b345_0242ac1c0002row1_col3\" class=\"data row1 col3\" >780</td>\n",
              "                        <td id=\"T_f661893e_db58_11eb_b345_0242ac1c0002row1_col4\" class=\"data row1 col4\" >106</td>\n",
              "                        <td id=\"T_f661893e_db58_11eb_b345_0242ac1c0002row1_col5\" class=\"data row1 col5\" >190</td>\n",
              "                        <td id=\"T_f661893e_db58_11eb_b345_0242ac1c0002row1_col6\" class=\"data row1 col6\" >100</td>\n",
              "                        <td id=\"T_f661893e_db58_11eb_b345_0242ac1c0002row1_col7\" class=\"data row1 col7\" >154</td>\n",
              "                        <td id=\"T_f661893e_db58_11eb_b345_0242ac1c0002row1_col8\" class=\"data row1 col8\" >100</td>\n",
              "                        <td id=\"T_f661893e_db58_11eb_b345_0242ac1c0002row1_col9\" class=\"data row1 col9\" >130</td>\n",
              "                        <td id=\"T_f661893e_db58_11eb_b345_0242ac1c0002row1_col10\" class=\"data row1 col10\" >1</td>\n",
              "                        <td id=\"T_f661893e_db58_11eb_b345_0242ac1c0002row1_col11\" class=\"data row1 col11\" >True</td>\n",
              "            </tr>\n",
              "            <tr>\n",
              "                        <th id=\"T_f661893e_db58_11eb_b345_0242ac1c0002level0_row2\" class=\"row_heading level0 row2\" >224</th>\n",
              "                        <td id=\"T_f661893e_db58_11eb_b345_0242ac1c0002row2_col0\" class=\"data row2 col0\" >SteelixMega Steelix</td>\n",
              "                        <td id=\"T_f661893e_db58_11eb_b345_0242ac1c0002row2_col1\" class=\"data row2 col1\" >Steel</td>\n",
              "                        <td id=\"T_f661893e_db58_11eb_b345_0242ac1c0002row2_col2\" class=\"data row2 col2\" >Ground</td>\n",
              "                        <td id=\"T_f661893e_db58_11eb_b345_0242ac1c0002row2_col3\" class=\"data row2 col3\" >610</td>\n",
              "                        <td id=\"T_f661893e_db58_11eb_b345_0242ac1c0002row2_col4\" class=\"data row2 col4\" >75</td>\n",
              "                        <td id=\"T_f661893e_db58_11eb_b345_0242ac1c0002row2_col5\" class=\"data row2 col5\" >125</td>\n",
              "                        <td id=\"T_f661893e_db58_11eb_b345_0242ac1c0002row2_col6\" class=\"data row2 col6\" >230</td>\n",
              "                        <td id=\"T_f661893e_db58_11eb_b345_0242ac1c0002row2_col7\" class=\"data row2 col7\" >55</td>\n",
              "                        <td id=\"T_f661893e_db58_11eb_b345_0242ac1c0002row2_col8\" class=\"data row2 col8\" >95</td>\n",
              "                        <td id=\"T_f661893e_db58_11eb_b345_0242ac1c0002row2_col9\" class=\"data row2 col9\" >30</td>\n",
              "                        <td id=\"T_f661893e_db58_11eb_b345_0242ac1c0002row2_col10\" class=\"data row2 col10\" >2</td>\n",
              "                        <td id=\"T_f661893e_db58_11eb_b345_0242ac1c0002row2_col11\" class=\"data row2 col11\" >False</td>\n",
              "            </tr>\n",
              "            <tr>\n",
              "                        <th id=\"T_f661893e_db58_11eb_b345_0242ac1c0002level0_row3\" class=\"row_heading level0 row3\" >164</th>\n",
              "                        <td id=\"T_f661893e_db58_11eb_b345_0242ac1c0002row3_col0\" class=\"data row3 col0\" >MewtwoMega Mewtwo Y</td>\n",
              "                        <td id=\"T_f661893e_db58_11eb_b345_0242ac1c0002row3_col1\" class=\"data row3 col1\" >Psychic</td>\n",
              "                        <td id=\"T_f661893e_db58_11eb_b345_0242ac1c0002row3_col2\" class=\"data row3 col2\" >nan</td>\n",
              "                        <td id=\"T_f661893e_db58_11eb_b345_0242ac1c0002row3_col3\" class=\"data row3 col3\" >780</td>\n",
              "                        <td id=\"T_f661893e_db58_11eb_b345_0242ac1c0002row3_col4\" class=\"data row3 col4\" >106</td>\n",
              "                        <td id=\"T_f661893e_db58_11eb_b345_0242ac1c0002row3_col5\" class=\"data row3 col5\" >150</td>\n",
              "                        <td id=\"T_f661893e_db58_11eb_b345_0242ac1c0002row3_col6\" class=\"data row3 col6\" >70</td>\n",
              "                        <td id=\"T_f661893e_db58_11eb_b345_0242ac1c0002row3_col7\" class=\"data row3 col7\" >194</td>\n",
              "                        <td id=\"T_f661893e_db58_11eb_b345_0242ac1c0002row3_col8\" class=\"data row3 col8\" >120</td>\n",
              "                        <td id=\"T_f661893e_db58_11eb_b345_0242ac1c0002row3_col9\" class=\"data row3 col9\" >140</td>\n",
              "                        <td id=\"T_f661893e_db58_11eb_b345_0242ac1c0002row3_col10\" class=\"data row3 col10\" >1</td>\n",
              "                        <td id=\"T_f661893e_db58_11eb_b345_0242ac1c0002row3_col11\" class=\"data row3 col11\" >True</td>\n",
              "            </tr>\n",
              "            <tr>\n",
              "                        <th id=\"T_f661893e_db58_11eb_b345_0242ac1c0002level0_row4\" class=\"row_heading level0 row4\" >230</th>\n",
              "                        <td id=\"T_f661893e_db58_11eb_b345_0242ac1c0002row4_col0\" class=\"data row4 col0\" >Shuckle</td>\n",
              "                        <td id=\"T_f661893e_db58_11eb_b345_0242ac1c0002row4_col1\" class=\"data row4 col1\" >Bug</td>\n",
              "                        <td id=\"T_f661893e_db58_11eb_b345_0242ac1c0002row4_col2\" class=\"data row4 col2\" >Rock</td>\n",
              "                        <td id=\"T_f661893e_db58_11eb_b345_0242ac1c0002row4_col3\" class=\"data row4 col3\" >505</td>\n",
              "                        <td id=\"T_f661893e_db58_11eb_b345_0242ac1c0002row4_col4\" class=\"data row4 col4\" >20</td>\n",
              "                        <td id=\"T_f661893e_db58_11eb_b345_0242ac1c0002row4_col5\" class=\"data row4 col5\" >10</td>\n",
              "                        <td id=\"T_f661893e_db58_11eb_b345_0242ac1c0002row4_col6\" class=\"data row4 col6\" >230</td>\n",
              "                        <td id=\"T_f661893e_db58_11eb_b345_0242ac1c0002row4_col7\" class=\"data row4 col7\" >10</td>\n",
              "                        <td id=\"T_f661893e_db58_11eb_b345_0242ac1c0002row4_col8\" class=\"data row4 col8\" >230</td>\n",
              "                        <td id=\"T_f661893e_db58_11eb_b345_0242ac1c0002row4_col9\" class=\"data row4 col9\" >5</td>\n",
              "                        <td id=\"T_f661893e_db58_11eb_b345_0242ac1c0002row4_col10\" class=\"data row4 col10\" >2</td>\n",
              "                        <td id=\"T_f661893e_db58_11eb_b345_0242ac1c0002row4_col11\" class=\"data row4 col11\" >False</td>\n",
              "            </tr>\n",
              "            <tr>\n",
              "                        <th id=\"T_f661893e_db58_11eb_b345_0242ac1c0002level0_row5\" class=\"row_heading level0 row5\" >431</th>\n",
              "                        <td id=\"T_f661893e_db58_11eb_b345_0242ac1c0002row5_col0\" class=\"data row5 col0\" >DeoxysSpeed Forme</td>\n",
              "                        <td id=\"T_f661893e_db58_11eb_b345_0242ac1c0002row5_col1\" class=\"data row5 col1\" >Psychic</td>\n",
              "                        <td id=\"T_f661893e_db58_11eb_b345_0242ac1c0002row5_col2\" class=\"data row5 col2\" >nan</td>\n",
              "                        <td id=\"T_f661893e_db58_11eb_b345_0242ac1c0002row5_col3\" class=\"data row5 col3\" >600</td>\n",
              "                        <td id=\"T_f661893e_db58_11eb_b345_0242ac1c0002row5_col4\" class=\"data row5 col4\" >50</td>\n",
              "                        <td id=\"T_f661893e_db58_11eb_b345_0242ac1c0002row5_col5\" class=\"data row5 col5\" >95</td>\n",
              "                        <td id=\"T_f661893e_db58_11eb_b345_0242ac1c0002row5_col6\" class=\"data row5 col6\" >90</td>\n",
              "                        <td id=\"T_f661893e_db58_11eb_b345_0242ac1c0002row5_col7\" class=\"data row5 col7\" >95</td>\n",
              "                        <td id=\"T_f661893e_db58_11eb_b345_0242ac1c0002row5_col8\" class=\"data row5 col8\" >90</td>\n",
              "                        <td id=\"T_f661893e_db58_11eb_b345_0242ac1c0002row5_col9\" class=\"data row5 col9\" >180</td>\n",
              "                        <td id=\"T_f661893e_db58_11eb_b345_0242ac1c0002row5_col10\" class=\"data row5 col10\" >3</td>\n",
              "                        <td id=\"T_f661893e_db58_11eb_b345_0242ac1c0002row5_col11\" class=\"data row5 col11\" >True</td>\n",
              "            </tr>\n",
              "    </tbody></table>"
            ],
            "text/plain": [
              "<pandas.io.formats.style.Styler at 0x7fd81b80c050>"
            ]
          },
          "metadata": {
            "tags": []
          },
          "execution_count": 26
        }
      ]
    },
    {
      "cell_type": "code",
      "metadata": {
        "id": "0DugD4Bn9jFb"
      },
      "source": [
        ""
      ],
      "execution_count": null,
      "outputs": []
    }
  ]
}